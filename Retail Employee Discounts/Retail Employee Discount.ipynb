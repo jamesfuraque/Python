{
  "cells": [
    {
      "cell_type": "code",
      "execution_count": 3,
      "metadata": {
        "id": "r-SGqPCy96Bo"
      },
      "outputs": [],
      "source": [
        "# Make an empty array of employees"
      ]
    },
    {
      "cell_type": "code",
      "execution_count": 4,
      "metadata": {
        "id": "edHQoITi-SZJ"
      },
      "outputs": [],
      "source": [
        "employee_list = []"
      ]
    },
    {
      "cell_type": "code",
      "execution_count": 5,
      "metadata": {
        "id": "nGPZGirN-c44"
      },
      "outputs": [],
      "source": [
        "# Make a structure on printing employees"
      ]
    },
    {
      "cell_type": "code",
      "execution_count": 6,
      "metadata": {
        "id": "JnkmbLP6-gzx"
      },
      "outputs": [],
      "source": [
        "def display_employees():\n",
        "  print(\"\\n\\n\" + \"All Employee Summary\")\n",
        "  print(\"| Employee ID | Employee Name | Employee Type | Years Worked | Total Purchased | Total Discounts | Employee Discount Number |\")\n",
        "  print(\"-------------------------------------------------------------------------------------------------------------------\")\n",
        "  for employee in employee_list:\n",
        "    print(str(employee[0]) + \", \" + employee[1] + \", \" + employee[2] + \", \" + str(employee[3])\n",
        "              + \", \" + str(employee[4]) + \", \" + str(employee[5])+ \", \" + str(employee[6]))"
      ]
    },
    {
      "cell_type": "code",
      "execution_count": 7,
      "metadata": {
        "id": "CGcKNYF9_CB5"
      },
      "outputs": [],
      "source": [
        "# Creating Employee"
      ]
    },
    {
      "cell_type": "code",
      "execution_count": 8,
      "metadata": {
        "id": "6WtWbwaCDZu6"
      },
      "outputs": [],
      "source": [
        "def create_employee():\n",
        "  is_continue = True\n",
        "  while is_continue:\n",
        "    employee_id = int(input(\"Enter Employee ID: \"))\n",
        "    employee_name = input(\"Enter Employee Name: \")\n",
        "    employee_type = input(\"Enter Employee Type: \")\n",
        "    employee_years_worked = int(input(\"Enter Employee Total Years Working: \"))\n",
        "    employee_total_purchase = int(input(\"Enter Employee Total Purchased: \"))\n",
        "    employee_total_discount = int(input(\"Enter Employee's Total Discount: \"))\n",
        "    employee_discount_number = int(input(\"Enter Employee's Discount Number: \"))\n",
        "\n",
        "    employee = [employee_id, employee_name, employee_type, employee_years_worked, 0, 0, employee_discount_number]\n",
        "    employee_list.append(employee)\n",
        "    print(\"Employee successfully added!\")\n",
        "\n",
        "    user_input = input(\"Do you still want to add an employee? (YES/NO): \")\n",
        "    if user_input == \"NO\":\n",
        "      is_continue = False"
      ]
    },
    {
      "cell_type": "code",
      "execution_count": 9,
      "metadata": {
        "colab": {
          "base_uri": "https://localhost:8080/"
        },
        "id": "IGWzjhc9DbXV",
        "outputId": "8f061bfc-67e2-4e4c-a080-8c18a23c9a03"
      },
      "outputs": [
        {
          "name": "stdout",
          "output_type": "stream",
          "text": [
            "Enter Employee ID: 1\n",
            "Enter Employee Name: Kaido\n",
            "Enter Employee Type: Hourly\n",
            "Enter Employee Total Years Working: 3\n",
            "Enter Employee Total Purchased: 0\n",
            "Enter Employee's Total Discount: 0\n",
            "Enter Employee's Discount Number: 11220\n",
            "Employee successfully added!\n",
            "Do you still want to add an employee? (YES/NO): NO\n"
          ]
        }
      ],
      "source": [
        "create_employee()"
      ]
    },
    {
      "cell_type": "code",
      "execution_count": 10,
      "metadata": {
        "id": "POVYAPohDn2X"
      },
      "outputs": [],
      "source": [
        "# Check if we have the employee"
      ]
    },
    {
      "cell_type": "code",
      "execution_count": 11,
      "metadata": {
        "colab": {
          "base_uri": "https://localhost:8080/"
        },
        "id": "2GZxrdsxDqJ_",
        "outputId": "591d9091-fb90-4e9f-a90f-46a688db32f5"
      },
      "outputs": [
        {
          "name": "stdout",
          "output_type": "stream",
          "text": [
            "\n",
            "\n",
            "All Employee Summary\n",
            "| Employee ID | Employee Name | Employee Type | Years Worked | Total Purchased | Total Discounts | Employee Discount Number |\n",
            "-------------------------------------------------------------------------------------------------------------------\n",
            "1, Kaido, Hourly, 3, 0, 0, 11220\n"
          ]
        }
      ],
      "source": [
        "display_employees()"
      ]
    },
    {
      "cell_type": "code",
      "execution_count": 12,
      "metadata": {
        "id": "jTJNpwxlEnE_"
      },
      "outputs": [],
      "source": [
        "# Now, lets apply these rules:\n",
        "# Employee ID is unique within the list\n",
        "# Employee Discount is unique within the list\n",
        "# Null/empty value is not allowed for any of the fields"
      ]
    },
    {
      "cell_type": "code",
      "execution_count": 13,
      "metadata": {
        "id": "HfBvqCWzFhvd"
      },
      "outputs": [],
      "source": [
        "# Function to check for UNIQUE EMPLOYEE ID\n",
        "def is_unique_employeeID(employee_list, new_employee_id):\n",
        "  return all(employee[0] != new_employee_id for employee in employee_list)"
      ]
    },
    {
      "cell_type": "code",
      "execution_count": 14,
      "metadata": {
        "id": "Mcjs8rmJHGfG"
      },
      "outputs": [],
      "source": [
        "# Function to check for UNIQUE DISCOUNT NUMBER\n",
        "def is_unique_discount_number(employee_list, new_discount_id):\n",
        "  return all(employee[6] != new_discount_id for employee in employee_list)"
      ]
    },
    {
      "cell_type": "code",
      "execution_count": 15,
      "metadata": {
        "id": "-oRuxvbHHn3z"
      },
      "outputs": [],
      "source": [
        "# Function for not to allow NULL / EMPTY values.\n",
        "def get_valid_input(prompt_message):\n",
        "  while True:\n",
        "    user_input = input(prompt_message)\n",
        "    if user_input:\n",
        "      return user_input\n",
        "    print(\"This field cannot be empty! Please try again.\")"
      ]
    },
    {
      "cell_type": "code",
      "execution_count": 16,
      "metadata": {
        "id": "DgpDCbbxIEu4"
      },
      "outputs": [],
      "source": [
        "def create_employee():\n",
        "    is_continue = True\n",
        "\n",
        "    while is_continue:\n",
        "        employee_id = int(get_valid_input(\"Enter Employee ID: \"))\n",
        "\n",
        "        # Check if the Employee ID is unique\n",
        "        while not is_unique_employeeID(employee_list, employee_id):\n",
        "            print(\"Employee ID must be unique. Please try again.\")\n",
        "            employee_id = int(get_valid_input(\"Enter Employee ID: \"))\n",
        "\n",
        "        employee_name = get_valid_input(\"Enter Employee Name: \")\n",
        "        employee_type = get_valid_input(\"Enter Employee Type: \")\n",
        "        employee_years_worked = int(get_valid_input(\"Enter Employee Total Years Working: \"))\n",
        "        employee_total_purchase = int(get_valid_input(\"Enter Employee Total Purchased: \"))\n",
        "        employee_total_discount = int(get_valid_input(\"Enter Employee's Total Discount: \"))\n",
        "        employee_discount_number = int(get_valid_input(\"Enter Employee's Discount Number: \"))\n",
        "        # Check if the Discount Number is unique\n",
        "        while not is_unique_discount_number(employee_list, employee_discount_number):\n",
        "            print(\"Discount Number must be unique. Please try again.\")\n",
        "            employee_discount_number = int(get_valid_input(\"Enter Employee's Discount Number: \"))\n",
        "\n",
        "        employee = [employee_id, employee_name, employee_type, employee_years_worked, 0, 0, employee_discount_number]\n",
        "        employee_list.append(employee)\n",
        "        print(\"Employee successfully added!\")\n",
        "\n",
        "        user_input = input(\"Do you still want to add an employee? (YES/NO): \")\n",
        "        if user_input.upper() == \"NO\":\n",
        "            is_continue = False"
      ]
    },
    {
      "cell_type": "code",
      "execution_count": 17,
      "metadata": {
        "colab": {
          "base_uri": "https://localhost:8080/"
        },
        "id": "8WsFU7gmKpki",
        "outputId": "36350fbe-fc2e-456b-95e6-5963444be2ad"
      },
      "outputs": [
        {
          "name": "stdout",
          "output_type": "stream",
          "text": [
            "Enter Employee ID: 1\n",
            "Employee ID must be unique. Please try again.\n",
            "Enter Employee ID: 2\n",
            "Enter Employee Name: \n",
            "This field cannot be empty! Please try again.\n",
            "Enter Employee Name: King\n",
            "Enter Employee Type: \n",
            "This field cannot be empty! Please try again.\n",
            "Enter Employee Type: Manager\n",
            "Enter Employee Total Years Working: 6\n",
            "Enter Employee Total Purchased: 0\n",
            "Enter Employee's Total Discount: 0\n",
            "Enter Employee's Discount Number: 11220\n",
            "Discount Number must be unique. Please try again.\n",
            "Enter Employee's Discount Number: 11221\n",
            "Employee successfully added!\n",
            "Do you still want to add an employee? (YES/NO): NO\n"
          ]
        }
      ],
      "source": [
        "# Now let's check if we met these rules:\n",
        "# Employee ID is unique within the list\n",
        "# Employee Discount is unique within the list\n",
        "# Null/empty value is not allowed for any of the fields\n",
        "create_employee()"
      ]
    },
    {
      "cell_type": "code",
      "execution_count": 18,
      "metadata": {
        "colab": {
          "base_uri": "https://localhost:8080/"
        },
        "id": "mTdKhLHyMtSJ",
        "outputId": "5c930c2b-4d9c-4607-861e-cb20361bb38d"
      },
      "outputs": [
        {
          "name": "stdout",
          "output_type": "stream",
          "text": [
            "\n",
            "\n",
            "All Employee Summary\n",
            "| Employee ID | Employee Name | Employee Type | Years Worked | Total Purchased | Total Discounts | Employee Discount Number |\n",
            "-------------------------------------------------------------------------------------------------------------------\n",
            "1, Kaido, Hourly, 3, 0, 0, 11220\n",
            "2, King, Manager, 6, 0, 0, 11221\n"
          ]
        }
      ],
      "source": [
        "display_employees()"
      ]
    },
    {
      "cell_type": "code",
      "execution_count": 19,
      "metadata": {
        "id": "kvBWwt2VM7K0"
      },
      "outputs": [],
      "source": [
        "# Now, let's meet the expectations of these rules:\n",
        "# •\tInput must be number for Employee ID, Years Worked, and Employee Discount Number\n",
        "# •\tInput must be “hourly” or “manager” for Employee Type\n",
        "# •\tInput is not required for Total Purchased and Total Discounts when the employee is first created in the system, these fields should be assigned with a default value of 0."
      ]
    },
    {
      "cell_type": "code",
      "execution_count": 20,
      "metadata": {
        "id": "X9Ji6yN6NLvh"
      },
      "outputs": [],
      "source": [
        "# Function that defines input must be a number for Employee ID, Years Worked and Employee Discount Number\n",
        "def get_valid_number(prompt_message):\n",
        "    while True:\n",
        "        user_input = input(prompt_message)\n",
        "        if user_input.isdigit():\n",
        "            return int(user_input)\n",
        "        print(\"Invalid input! Please enter a valid integer.\")"
      ]
    },
    {
      "cell_type": "code",
      "execution_count": 21,
      "metadata": {
        "id": "Mdcz7NRzNwnb"
      },
      "outputs": [],
      "source": [
        "# Function to define the employee time whether it's HOURLY or MANAGER\n",
        "def get_valid_type(prompt_message, valid_type):\n",
        "  while True:\n",
        "    user_input = input(prompt_message)\n",
        "    if user_input in valid_type:\n",
        "      return user_input\n",
        "    print(\"Invalid input! Please provide appropriate values.\")"
      ]
    },
    {
      "cell_type": "code",
      "execution_count": 22,
      "metadata": {
        "id": "U-ssTWElOBHl"
      },
      "outputs": [],
      "source": [
        "def create_employee():\n",
        "    is_continue = True\n",
        "\n",
        "    while is_continue:\n",
        "        employee_id = get_valid_number(\"Enter Employee ID: \")\n",
        "\n",
        "        # Check if the Employee ID is unique\n",
        "        while not is_unique_employeeID(employee_list, employee_id):\n",
        "            print(\"Employee ID must be unique. Please try again.\")\n",
        "            employee_id = get_valid_number(\"Enter Employee ID: \")\n",
        "\n",
        "        employee_name = get_valid_input(\"Enter Employee Name: \")\n",
        "        valid_type = ['Hourly', 'hourly', 'HOURLY', 'Manager', 'manager', 'MANAGER']\n",
        "        employee_type = get_valid_type(\"Enter Employee Type: \", valid_type)\n",
        "        employee_years_worked = get_valid_number(\"Enter Employee Total Years Working: \")\n",
        "        try:\n",
        "          employee_total_purchase = int(input(\"Enter Employee Total Purchased: \"))\n",
        "        except ValueError:\n",
        "          print(\"You provided nothing. Default value will be 0\")\n",
        "        try:\n",
        "          employee_total_discount = int(input(\"Enter Employee's Total Discount: \"))\n",
        "        except ValueError:\n",
        "          print(\"You provided nothing. Default value will be 0\")\n",
        "        employee_discount_number = get_valid_number(\"Enter Employee's Discount Number: \")\n",
        "        # Check if the Discount Number is unique\n",
        "        while not is_unique_discount_number(employee_list, employee_discount_number):\n",
        "            print(\"Discount Number must be unique. Please try again.\")\n",
        "            employee_discount_number = get_valid_number(\"Enter Employee's Discount Number: \")\n",
        "\n",
        "        employee = [employee_id, employee_name, employee_type, employee_years_worked, 0, 0, employee_discount_number]\n",
        "        employee_list.append(employee)\n",
        "        print(\"Employee successfully added!\")\n",
        "\n",
        "        user_input = input(\"Do you still want to add an employee? (YES/NO): \")\n",
        "        if user_input.upper() == \"NO\":\n",
        "            is_continue = False"
      ]
    },
    {
      "cell_type": "code",
      "execution_count": 23,
      "metadata": {
        "colab": {
          "base_uri": "https://localhost:8080/"
        },
        "id": "5K3Z6prDP3jS",
        "outputId": "89b69a54-c5b8-4515-ae41-e5edf44fbd50"
      },
      "outputs": [
        {
          "name": "stdout",
          "output_type": "stream",
          "text": [
            "Enter Employee ID: aa\n",
            "Invalid input! Please enter a valid integer.\n",
            "Enter Employee ID: 3\n",
            "Enter Employee Name: Nami\n",
            "Enter Employee Type: Part-Time\n",
            "Invalid input! Please provide appropriate values.\n",
            "Enter Employee Type: Hourly\n",
            "Enter Employee Total Years Working: \n",
            "Invalid input! Please enter a valid integer.\n",
            "Enter Employee Total Years Working: 6\n",
            "Enter Employee Total Purchased: \n",
            "You provided nothing. Default value will be 0\n",
            "Enter Employee's Total Discount: \n",
            "You provided nothing. Default value will be 0\n",
            "Enter Employee's Discount Number: 11223\n",
            "Employee successfully added!\n",
            "Do you still want to add an employee? (YES/NO): no\n"
          ]
        }
      ],
      "source": [
        "# Check if we met the conditions:\n",
        "# •\tInput must be number for Employee ID, Years Worked, and Employee Discount Number\n",
        "# •\tInput must be “hourly” or “manager” for Employee Type\n",
        "# •\tInput is not required for Total Purchased and Total Discounts\n",
        "#   when the employee is first created in the system, these fields should be assigned with a default value of 0.\n",
        "create_employee()"
      ]
    },
    {
      "cell_type": "code",
      "execution_count": 24,
      "metadata": {
        "colab": {
          "base_uri": "https://localhost:8080/"
        },
        "id": "UJyTU4fJTsmD",
        "outputId": "715dd62b-2ff8-4345-fdcb-68b78187982c"
      },
      "outputs": [
        {
          "name": "stdout",
          "output_type": "stream",
          "text": [
            "\n",
            "\n",
            "All Employee Summary\n",
            "| Employee ID | Employee Name | Employee Type | Years Worked | Total Purchased | Total Discounts | Employee Discount Number |\n",
            "-------------------------------------------------------------------------------------------------------------------\n",
            "1, Kaido, Hourly, 3, 0, 0, 11220\n",
            "2, King, Manager, 6, 0, 0, 11221\n",
            "3, Nami, Hourly, 6, 0, 0, 11223\n"
          ]
        }
      ],
      "source": [
        "display_employees()"
      ]
    },
    {
      "cell_type": "code",
      "execution_count": 25,
      "metadata": {
        "id": "WJ-fkBS8V2FT"
      },
      "outputs": [],
      "source": [
        "def create_employee():\n",
        "    is_continue = True\n",
        "    print(\"Create Employee Page\" + \"\\n\\n\")\n",
        "    while is_continue:\n",
        "        employee_id = get_valid_number(\"Enter Employee ID: \")\n",
        "\n",
        "        # Check if the Employee ID is unique\n",
        "        while not is_unique_employeeID(employee_list, employee_id):\n",
        "            print(\"Employee ID must be unique. Please try again.\")\n",
        "            employee_id = get_valid_number(\"Enter Employee ID: \")\n",
        "\n",
        "        employee_name = get_valid_input(\"Enter Employee Name: \")\n",
        "        valid_type = ['Hourly', 'hourly', 'HOURLY', 'Manager', 'manager', 'MANAGER']\n",
        "        employee_type = get_valid_type(\"Enter Employee Type: \", valid_type)\n",
        "        employee_years_worked = get_valid_number(\"Enter Employee Total Years Working: \")\n",
        "        try:\n",
        "          employee_total_purchase = int(input(\"Enter Employee Total Purchased: \") or 0)\n",
        "        except ValueError:\n",
        "          print(\"You provided nothing. Default value will be 0\")\n",
        "        try:\n",
        "          employee_total_discount = int(input(\"Enter Employee's Total Discount: \") or 0)\n",
        "        except ValueError:\n",
        "          print(\"You provided nothing. Default value will be 0\")\n",
        "        employee_discount_number = get_valid_number(\"Enter Employee's Discount Number: \")\n",
        "        # Check if the Discount Number is unique\n",
        "        while not is_unique_discount_number(employee_list, employee_discount_number):\n",
        "            print(\"Discount Number must be unique. Please try again.\")\n",
        "            employee_discount_number = get_valid_number(\"Enter Employee's Discount Number: \")\n",
        "\n",
        "        employee = [employee_id, employee_name, employee_type, employee_years_worked, employee_total_purchase, employee_total_discount, employee_discount_number]\n",
        "        employee_list.append(employee)\n",
        "        print(\"Employee successfully added!\")\n",
        "\n",
        "        user_input = input(\"Do you still want to add an employee? (YES/NO): \")\n",
        "        if user_input.upper() == \"NO\":\n",
        "            is_continue = False"
      ]
    },
    {
      "cell_type": "code",
      "execution_count": 26,
      "metadata": {
        "id": "akqKqQ67VRRT"
      },
      "outputs": [],
      "source": [
        "# Now, let's create the Item Page."
      ]
    },
    {
      "cell_type": "code",
      "execution_count": 27,
      "metadata": {
        "id": "3uSsspeiVZ8g"
      },
      "outputs": [],
      "source": [
        "item_list = []"
      ]
    },
    {
      "cell_type": "code",
      "execution_count": 28,
      "metadata": {
        "id": "nTtu4FScYT1D"
      },
      "outputs": [],
      "source": [
        "# Take note that we need to consider these restrictions:\n",
        "# Item Number is unique within the list\n",
        "#\tNull/empty value is not allowed for any of the fields\n",
        "#\tInput must be number for Item Number and Item Cost"
      ]
    },
    {
      "cell_type": "code",
      "execution_count": 29,
      "metadata": {
        "id": "hI6OZTS8Y60g"
      },
      "outputs": [],
      "source": [
        "# Function to check for UNIQUE ITEM NUMBER\n",
        "def is_unique_itemNumber(item_list, new_itemNumber):\n",
        "  return all(item[0] != new_itemNumber for item in item_list)"
      ]
    },
    {
      "cell_type": "code",
      "execution_count": 30,
      "metadata": {
        "id": "ja-dYfDAZZ7A"
      },
      "outputs": [],
      "source": [
        "def create_item():\n",
        "  is_continue = True\n",
        "  print(\"Create Item Page\" + \"\\n\\n\")\n",
        "  while is_continue:\n",
        "    item_number = get_valid_number(\"Enter Item Number: \")\n",
        "\n",
        "    while not is_unique_itemNumber(item_list, item_number):\n",
        "      print(\"Employee ID must be unique. Please try again.\")\n",
        "      item_number = get_valid_number(\"Enter Item Number: \")\n",
        "    item_name = get_valid_input(\"Enter the name of the item: \")\n",
        "    item_cost = get_valid_number(\"Enter the cost of the item: \")\n",
        "\n",
        "    item = [item_number, item_name, item_cost]\n",
        "    item_list.append(item)\n",
        "\n",
        "    user_input = input(\"Do you still want to add an item? (YES/NO): \")\n",
        "    if user_input.upper() == \"NO\":\n",
        "      is_continue = False"
      ]
    },
    {
      "cell_type": "code",
      "execution_count": 31,
      "metadata": {
        "colab": {
          "base_uri": "https://localhost:8080/"
        },
        "id": "Is5ik-BGcHV4",
        "outputId": "8a1bebf3-9df4-4e1f-a98d-6059fe360c4f"
      },
      "outputs": [
        {
          "name": "stdout",
          "output_type": "stream",
          "text": [
            "Create Item Page\n",
            "\n",
            "\n",
            "Enter Item Number: 11445\n",
            "Enter the name of the item: Nike Shoes\n",
            "Enter the cost of the item: 120\n",
            "Do you still want to add an item? (YES/NO): yes\n",
            "Enter Item Number: 11556\n",
            "Enter the name of the item: Adidas Yeezy\n",
            "Enter the cost of the item: 260\n",
            "Do you still want to add an item? (YES/NO): no\n"
          ]
        }
      ],
      "source": [
        "create_item()"
      ]
    },
    {
      "cell_type": "code",
      "execution_count": 32,
      "metadata": {
        "id": "HAn0b8veckJp"
      },
      "outputs": [],
      "source": [
        "def display_items():\n",
        "  print(\"All Items Summary\" + \"\\n\")\n",
        "  print(\"| Item Number | Item Name | Cost |\")\n",
        "  print(\"----------------------------------\")\n",
        "  for item in item_list:\n",
        "    print(str(item[0]) + \", \" + item[1] + \", \" + str(item[2]))"
      ]
    },
    {
      "cell_type": "code",
      "execution_count": 33,
      "metadata": {
        "colab": {
          "base_uri": "https://localhost:8080/"
        },
        "id": "Xgk3Bs-RdD3b",
        "outputId": "e9342a76-6a27-4f00-a5f0-1dacbdb0031b"
      },
      "outputs": [
        {
          "name": "stdout",
          "output_type": "stream",
          "text": [
            "All Items Summary\n",
            "\n",
            "| Item Number | Item Name | Cost |\n",
            "----------------------------------\n",
            "11445, Nike Shoes, 120\n",
            "11556, Adidas Yeezy, 260\n"
          ]
        }
      ],
      "source": [
        "display_items()"
      ]
    },
    {
      "cell_type": "code",
      "execution_count": 34,
      "metadata": {
        "id": "zphkXsJid_zz"
      },
      "outputs": [],
      "source": [
        "def make_purchase_page():\n",
        "    while True:\n",
        "        print(\"| Item Number | Item Name | Cost |\")\n",
        "        print(\"----------------------------------\")\n",
        "        for item in item_list:\n",
        "            print(str(item[0]) + \", \" + item[1] + \", \" + str(item[2]))\n",
        "\n",
        "        while True:\n",
        "            employee_discount_number = get_valid_number(\"Enter Employee's Discount Number: \")\n",
        "\n",
        "            # Find the employee with the entered discount number\n",
        "            employee = next((emp for emp in employee_list if emp[6] == employee_discount_number), None)\n",
        "\n",
        "            if employee:\n",
        "                print(f\"\\nEmployee Information:\\n{employee}\\n\")\n",
        "                break\n",
        "            else:\n",
        "                print(\"Invalid employee discount number. Please try again.\")\n",
        "\n",
        "        while True:\n",
        "            item_number = get_valid_number(\"Enter Item Number to purchase: \")\n",
        "\n",
        "            # Find the item with the entered item number\n",
        "            item = next((i for i in item_list if i[0] == item_number), None)\n",
        "\n",
        "            if item:\n",
        "                purchase_cost = item[2]\n",
        "\n",
        "                if employee[2].lower() == 'manager':                    # Apply employee discount\n",
        "                    purchase_cost *= (1 - 0.1)                          # 10% Additional Discount for Managers\n",
        "                elif employee[2].lower() == 'hourly':\n",
        "                    purchase_cost *= (1 - (employee[3] * 0.02))         # 2% discount per year for hourly employees, max 10%\n",
        "\n",
        "                # Update employee's total purchase and total discount\n",
        "                employee[4] += purchase_cost\n",
        "                employee[5] += item[2]\n",
        "\n",
        "                print(f\"\\nPurchase successful!\\nTotal Cost: {purchase_cost}\\nTotal Purchased by Employee: {employee[4]}\\nTotal Discount for Employee: {employee[5]}\\n\")\n",
        "                break\n",
        "            else:\n",
        "                print(\"Invalid item number. Please try again.\")\n",
        "\n",
        "        another_purchase = input(\"Another purchase? (YES/NO): \")\n",
        "        if another_purchase.upper() != \"YES\":\n",
        "          display_employees()\n",
        "          go_to_menu = input(\"Do you want to go back to Main Menu? (YES/NO)\")\n",
        "          if go_to_menu.upper() == \"YES\":\n",
        "            print(\"Returning to Main Menu.\")\n",
        "            break\n",
        "          else:\n",
        "            break"
      ]
    },
    {
      "cell_type": "code",
      "execution_count": 35,
      "metadata": {
        "id": "Gh5eYymAjjMD"
      },
      "outputs": [],
      "source": [
        "# Create a menu"
      ]
    },
    {
      "cell_type": "code",
      "execution_count": 36,
      "metadata": {
        "id": "HXAqRlOJkyo1"
      },
      "outputs": [],
      "source": [
        "def menu():\n",
        "  print(\"--------------------------------\")\n",
        "  print(\"| 1 - Create Employee          |\")\n",
        "  print(\"| 2 - Create Item              |\")\n",
        "  print(\"| 3 - Make Purchase            |\")\n",
        "  print(\"| 4 - All Employee Summary     |\")\n",
        "  print(\"| 5 - Exit                     |\")\n",
        "  print(\"--------------------------------\")"
      ]
    },
    {
      "cell_type": "code",
      "execution_count": 37,
      "metadata": {
        "colab": {
          "base_uri": "https://localhost:8080/"
        },
        "id": "79dXZY-ZmTp6",
        "outputId": "c5af6003-0a0a-471f-cf71-12b2e90e5a4b"
      },
      "outputs": [
        {
          "name": "stdout",
          "output_type": "stream",
          "text": [
            "\n",
            "\n",
            "All Employee Summary\n",
            "| Employee ID | Employee Name | Employee Type | Years Worked | Total Purchased | Total Discounts | Employee Discount Number |\n",
            "-------------------------------------------------------------------------------------------------------------------\n",
            "1, Kaido, Hourly, 3, 0, 0, 11220\n",
            "2, King, Manager, 6, 0, 0, 11221\n",
            "3, Nami, Hourly, 6, 0, 0, 11223\n"
          ]
        }
      ],
      "source": [
        "display_employees()"
      ]
    },
    {
      "cell_type": "code",
      "execution_count": 38,
      "metadata": {
        "colab": {
          "base_uri": "https://localhost:8080/"
        },
        "id": "sXXer6iT24TQ",
        "outputId": "e286a562-8ef3-4124-d0a4-86fb4a85e667"
      },
      "outputs": [
        {
          "name": "stdout",
          "output_type": "stream",
          "text": [
            "All Items Summary\n",
            "\n",
            "| Item Number | Item Name | Cost |\n",
            "----------------------------------\n",
            "11445, Nike Shoes, 120\n",
            "11556, Adidas Yeezy, 260\n"
          ]
        }
      ],
      "source": [
        "display_items()"
      ]
    },
    {
      "cell_type": "code",
      "execution_count": 39,
      "metadata": {
        "id": "jDrYMZu3CwP4"
      },
      "outputs": [],
      "source": [
        "def create_employee():\n",
        "    is_continue = True\n",
        "\n",
        "    while is_continue:\n",
        "        employee_id = get_valid_number(\"Enter Employee ID: \")\n",
        "\n",
        "        # Check if the Employee ID is unique\n",
        "        while not is_unique_employeeID(employee_list, employee_id):\n",
        "            print(\"Employee ID must be unique. Please try again.\")\n",
        "            employee_id = get_valid_number(\"Enter Employee ID: \")\n",
        "\n",
        "        employee_name = get_valid_input(\"Enter Employee Name: \")\n",
        "        valid_type = ['Hourly', 'hourly', 'HOURLY', 'Manager', 'manager', 'MANAGER']\n",
        "        employee_type = get_valid_type(\"Enter Employee Type: \", valid_type)\n",
        "        employee_years_worked = get_valid_number(\"Enter Employee Total Years Working: \")\n",
        "        try:\n",
        "          employee_total_purchase = int(input(\"Enter Employee Total Purchased: \"))\n",
        "        except ValueError:\n",
        "          print(\"You provided nothing. Default value will be 0\")\n",
        "        try:\n",
        "          employee_total_discount = int(input(\"Enter Employee's Total Discount: \"))\n",
        "        except ValueError:\n",
        "          print(\"You provided nothing. Default value will be 0\")\n",
        "        employee_discount_number = get_valid_number(\"Enter Employee's Discount Number: \")\n",
        "        # Check if the Discount Number is unique\n",
        "        while not is_unique_discount_number(employee_list, employee_discount_number):\n",
        "            print(\"Discount Number must be unique. Please try again.\")\n",
        "            employee_discount_number = get_valid_number(\"Enter Employee's Discount Number: \")\n",
        "\n",
        "        employee = [employee_id, employee_name, employee_type, employee_years_worked, 0, 0, employee_discount_number]\n",
        "        employee_list.append(employee)\n",
        "        print(\"Employee successfully added!\")\n",
        "\n",
        "        user_input = input(\"Do you still want to add an employee? (YES/NO): \")\n",
        "        if user_input.upper() == \"NO\":\n",
        "            break"
      ]
    },
    {
      "cell_type": "code",
      "execution_count": 40,
      "metadata": {
        "colab": {
          "base_uri": "https://localhost:8080/"
        },
        "id": "UmzzR3KzIbQu",
        "outputId": "b9dde97f-0f0a-44d1-95f7-17a9cb0b3a4c"
      },
      "outputs": [
        {
          "name": "stdout",
          "output_type": "stream",
          "text": [
            "--------------------------------\n",
            "| 1 - Create Employee          |\n",
            "| 2 - Create Item              |\n",
            "| 3 - Make Purchase            |\n",
            "| 4 - All Employee Summary     |\n",
            "| 5 - Exit                     |\n",
            "--------------------------------\n",
            "Enter your choice (1-5): 4\n",
            "\n",
            "\n",
            "All Employee Summary\n",
            "| Employee ID | Employee Name | Employee Type | Years Worked | Total Purchased | Total Discounts | Employee Discount Number |\n",
            "-------------------------------------------------------------------------------------------------------------------\n",
            "1, Kaido, Hourly, 3, 0, 0, 11220\n",
            "2, King, Manager, 6, 0, 0, 11221\n",
            "3, Nami, Hourly, 6, 0, 0, 11223\n",
            "Do you want to go back to Main Menu? (YES/NO)no\n"
          ]
        }
      ],
      "source": [
        "def main():\n",
        "    while True:\n",
        "      menu()\n",
        "      choice = input(\"Enter your choice (1-5): \")\n",
        "\n",
        "      if choice == \"1\":\n",
        "        create_employee()\n",
        "        go_to_menu = input(\"Do you want to go back to Main Menu? (YES/NO)\")\n",
        "        if go_to_menu.upper() != \"YES\":\n",
        "          print(\"Exiting the program. Goodbye!\")\n",
        "          break\n",
        "      elif choice == \"2\":\n",
        "        create_item()\n",
        "        go_to_menu = input(\"Do you want to go back to Main Menu? (YES/NO)\")\n",
        "        if go_to_menu.upper() != \"YES\":\n",
        "          print(\"Exiting the program. Goodbye!\")\n",
        "          break\n",
        "      elif choice == \"3\":\n",
        "        make_purchase_page()\n",
        "      elif choice == \"4\":\n",
        "        display_employees()\n",
        "        go_to_menu = input(\"Do you want to go back to Main Menu? (YES/NO)\")\n",
        "        if go_to_menu.upper() != \"YES\":\n",
        "          break\n",
        "      elif choice == \"5\":\n",
        "        print(\"Exiting the program. Goodbye!\")\n",
        "        break\n",
        "      else:\n",
        "        print(\"Invalid choice. Please enter a valid option (1-5).\")\n",
        "\n",
        "\n",
        "if __name__ == \"__main__\":\n",
        "    main()"
      ]
    },
    {
      "cell_type": "code",
      "execution_count": 41,
      "metadata": {
        "colab": {
          "base_uri": "https://localhost:8080/"
        },
        "id": "yvNp538_Wqhr",
        "outputId": "fa89712e-382f-44f7-970f-c69ee09c7ef3"
      },
      "outputs": [
        {
          "name": "stdout",
          "output_type": "stream",
          "text": [
            "\n",
            "\n",
            "All Employee Summary\n",
            "| Employee ID | Employee Name | Employee Type | Years Worked | Total Purchased | Total Discounts | Employee Discount Number |\n",
            "-------------------------------------------------------------------------------------------------------------------\n",
            "1, Kaido, Hourly, 3, 0, 0, 11220\n",
            "2, King, Manager, 6, 0, 0, 11221\n",
            "3, Nami, Hourly, 6, 0, 0, 11223\n"
          ]
        }
      ],
      "source": [
        "display_employees()"
      ]
    },
    {
      "cell_type": "code",
      "execution_count": 42,
      "metadata": {
        "colab": {
          "base_uri": "https://localhost:8080/"
        },
        "id": "Xh3Za4x_WsFS",
        "outputId": "774e9f0c-2896-4fdd-80af-6b5fb89a15d0"
      },
      "outputs": [
        {
          "name": "stdout",
          "output_type": "stream",
          "text": [
            "All Items Summary\n",
            "\n",
            "| Item Number | Item Name | Cost |\n",
            "----------------------------------\n",
            "11445, Nike Shoes, 120\n",
            "11556, Adidas Yeezy, 260\n"
          ]
        }
      ],
      "source": [
        "display_items()"
      ]
    },
    {
      "cell_type": "code",
      "execution_count": null,
      "metadata": {
        "colab": {
          "base_uri": "https://localhost:8080/"
        },
        "id": "gmE64CmNW3Xi",
        "outputId": "ea20c15b-2100-4bcb-bfb4-a9c2908f4c4a"
      },
      "outputs": [
        {
          "name": "stdout",
          "output_type": "stream",
          "text": [
            "--------------------------------\n",
            "| 1 - Create Employee          |\n",
            "| 2 - Create Item              |\n",
            "| 3 - Make Purchase            |\n",
            "| 4 - All Employee Summary     |\n",
            "| 5 - Exit                     |\n",
            "--------------------------------\n",
            "Enter your choice (1-5): 4\n",
            "\n",
            "\n",
            "All Employee Summary\n",
            "| Employee ID | Employee Name | Employee Type | Years Worked | Total Purchased | Total Discounts | Employee Discount Number |\n",
            "-------------------------------------------------------------------------------------------------------------------\n",
            "1, Kaido, Hourly, 3, 0, 0, 11220\n",
            "2, King, Manager, 6, 234.0, 260, 11221\n",
            "3, Nami, Hourly, 6, 0, 0, 11223\n",
            "4, Luffy, hourly, 4, 0, 0, 33221\n"
          ]
        }
      ],
      "source": [
        "main()"
      ]
    }
  ],
  "metadata": {
    "colab": {
      "provenance": []
    },
    "kernelspec": {
      "display_name": "Python 3",
      "name": "python3"
    },
    "language_info": {
      "name": "python"
    }
  },
  "nbformat": 4,
  "nbformat_minor": 0
}
